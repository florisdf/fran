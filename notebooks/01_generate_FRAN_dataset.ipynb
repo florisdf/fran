{
 "cells": [
  {
   "cell_type": "code",
   "execution_count": 1,
   "id": "96767112",
   "metadata": {},
   "outputs": [],
   "source": [
    "from argparse import Namespace\n",
    "import sys\n",
    "\n",
    "sys.path.insert(0, '..')\n",
    "\n",
    "from tqdm import tqdm\n",
    "from PIL import Image\n",
    "import numpy as np\n",
    "import torch\n",
    "\n",
    "from models.psp import pSp\n",
    "from models.stylegan2.model import Generator\n",
    "from utils.tensor2im import tensor2im\n",
    "from transforms.sam_transforms import test_transform as tfm\n",
    "from transforms.age_transforms import add_aging_channel"
   ]
  },
  {
   "cell_type": "code",
   "execution_count": 2,
   "id": "9a8585ec",
   "metadata": {},
   "outputs": [
    {
     "name": "stdout",
     "output_type": "stream",
     "text": [
      "Loading SAM from checkpoint: ../pretrained_models/sam_ffhq_aging.pt\n"
     ]
    }
   ],
   "source": [
    "# # Create decoder to generate images from latents\n",
    "# decoder = Generator(size=1024, style_dim=512, n_mlp=8)\n",
    "# decoder.load_state_dict(torch.load('../pretrained_models/stylegan2-ffhq-config-f.pt')['g'])\n",
    "# decoder = decoder.cuda()\n",
    "\n",
    "# Create encoder-decoder to change age of image\n",
    "ckpt_path = '../pretrained_models/sam_ffhq_aging.pt'\n",
    "ckpt = torch.load(ckpt_path, map_location='cpu')\n",
    "opts = ckpt['opts']\n",
    "opts = Namespace(**opts)\n",
    "opts.checkpoint_path = ckpt_path\n",
    "net = pSp(opts).eval().cuda()"
   ]
  },
  {
   "cell_type": "code",
   "execution_count": 3,
   "id": "fe1651aa",
   "metadata": {},
   "outputs": [],
   "source": [
    "def get_rand_ages(\n",
    "    min_age=18,\n",
    "    max_age=85,\n",
    "    num_ages=14\n",
    "):\n",
    "    return torch.randperm(max_age - min_age + 1)[:num_ages] + min_age"
   ]
  },
  {
   "cell_type": "code",
   "execution_count": 4,
   "id": "cc2c7c11",
   "metadata": {
    "scrolled": true
   },
   "outputs": [
    {
     "name": "stderr",
     "output_type": "stream",
     "text": [
      "100%|██████████| 2500/2500 [48:18<00:00,  1.16s/it]\n"
     ]
    }
   ],
   "source": [
    "from pathlib import Path\n",
    "\n",
    "\n",
    "data_root = Path('../data/FRAN_dataset')\n",
    "\n",
    "\n",
    "num_ages = 14\n",
    "num_samples = 2500\n",
    "\n",
    "for i in tqdm(range(num_samples)):\n",
    "    z = torch.randn(1, 1, 512).to('cuda')\n",
    "\n",
    "    with torch.no_grad():\n",
    "        (img,), _ = net.decoder(z)\n",
    "\n",
    "    im = tensor2im(img)\n",
    "\n",
    "    ages = get_rand_ages(num_ages=num_ages)\n",
    "    input_age_batch = torch.stack([\n",
    "        add_aging_channel(tfm(im), age)\n",
    "        for age in ages\n",
    "    ]).cuda()\n",
    "\n",
    "    with torch.no_grad():\n",
    "        results = net(input_age_batch, randomize_noise=False, resize=False)\n",
    "\n",
    "    for result, age in zip(results, ages):\n",
    "        result_im = tensor2im(result)\n",
    "        out_path = data_root / f'{i:04}/{i:04}_{age:02}.jpg'\n",
    "        out_path.parent.mkdir(exist_ok=True, parents=True)\n",
    "        result_im.save(out_path)"
   ]
  },
  {
   "cell_type": "markdown",
   "id": "77424f4b",
   "metadata": {},
   "source": [
    "# Visualize"
   ]
  },
  {
   "cell_type": "code",
   "execution_count": 5,
   "id": "dc737ab0",
   "metadata": {},
   "outputs": [
    {
     "ename": "RuntimeError",
     "evalue": "number of dims don't match in permute",
     "output_type": "error",
     "traceback": [
      "\u001b[0;31m---------------------------------------------------------------------------\u001b[0m",
      "\u001b[0;31mRuntimeError\u001b[0m                              Traceback (most recent call last)",
      "\u001b[0;32m<ipython-input-5-ca1621f8abb6>\u001b[0m in \u001b[0;36m<module>\u001b[0;34m\u001b[0m\n\u001b[0;32m----> 1\u001b[0;31m \u001b[0mtensor2im\u001b[0m\u001b[0;34m(\u001b[0m\u001b[0mresult\u001b[0m\u001b[0;34m[\u001b[0m\u001b[0;36m2\u001b[0m\u001b[0;34m]\u001b[0m\u001b[0;34m)\u001b[0m\u001b[0;34m\u001b[0m\u001b[0;34m\u001b[0m\u001b[0m\n\u001b[0m",
      "\u001b[0;32m~/projects/fran/utils/tensor2im.py\u001b[0m in \u001b[0;36mtensor2im\u001b[0;34m(var)\u001b[0m\n\u001b[1;32m      5\u001b[0m \u001b[0;32mdef\u001b[0m \u001b[0mtensor2im\u001b[0m\u001b[0;34m(\u001b[0m\u001b[0mvar\u001b[0m\u001b[0;34m)\u001b[0m\u001b[0;34m:\u001b[0m\u001b[0;34m\u001b[0m\u001b[0;34m\u001b[0m\u001b[0m\n\u001b[1;32m      6\u001b[0m     return Image.fromarray(\n\u001b[0;32m----> 7\u001b[0;31m         \u001b[0;34m(\u001b[0m\u001b[0mvar\u001b[0m\u001b[0;34m.\u001b[0m\u001b[0mpermute\u001b[0m\u001b[0;34m(\u001b[0m\u001b[0;36m1\u001b[0m\u001b[0;34m,\u001b[0m \u001b[0;36m2\u001b[0m\u001b[0;34m,\u001b[0m \u001b[0;36m0\u001b[0m\u001b[0;34m)\u001b[0m \u001b[0;34m*\u001b[0m \u001b[0;36m127.5\u001b[0m \u001b[0;34m+\u001b[0m \u001b[0;36m128\u001b[0m\u001b[0;34m)\u001b[0m\u001b[0;34m.\u001b[0m\u001b[0mclamp\u001b[0m\u001b[0;34m(\u001b[0m\u001b[0;36m0\u001b[0m\u001b[0;34m,\u001b[0m \u001b[0;36m255\u001b[0m\u001b[0;34m)\u001b[0m\u001b[0;34m.\u001b[0m\u001b[0mto\u001b[0m\u001b[0;34m(\u001b[0m\u001b[0mtorch\u001b[0m\u001b[0;34m.\u001b[0m\u001b[0muint8\u001b[0m\u001b[0;34m)\u001b[0m\u001b[0;34m.\u001b[0m\u001b[0mcpu\u001b[0m\u001b[0;34m(\u001b[0m\u001b[0;34m)\u001b[0m\u001b[0;34m.\u001b[0m\u001b[0mnumpy\u001b[0m\u001b[0;34m(\u001b[0m\u001b[0;34m)\u001b[0m\u001b[0;34m,\u001b[0m\u001b[0;34m\u001b[0m\u001b[0;34m\u001b[0m\u001b[0m\n\u001b[0m\u001b[1;32m      8\u001b[0m         \u001b[0;34m'RGB'\u001b[0m\u001b[0;34m\u001b[0m\u001b[0;34m\u001b[0m\u001b[0m\n\u001b[1;32m      9\u001b[0m     )\n",
      "\u001b[0;31mRuntimeError\u001b[0m: number of dims don't match in permute"
     ]
    }
   ],
   "source": [
    "tensor2im(result[2])"
   ]
  },
  {
   "cell_type": "code",
   "execution_count": null,
   "id": "ff2527fb",
   "metadata": {},
   "outputs": [],
   "source": []
  }
 ],
 "metadata": {
  "kernelspec": {
   "display_name": "Python 3",
   "language": "python",
   "name": "python3"
  },
  "language_info": {
   "codemirror_mode": {
    "name": "ipython",
    "version": 3
   },
   "file_extension": ".py",
   "mimetype": "text/x-python",
   "name": "python",
   "nbconvert_exporter": "python",
   "pygments_lexer": "ipython3",
   "version": "3.6.8"
  }
 },
 "nbformat": 4,
 "nbformat_minor": 5
}
